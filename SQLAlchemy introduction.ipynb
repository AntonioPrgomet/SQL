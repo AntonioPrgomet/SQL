{
 "cells": [
  {
   "cell_type": "markdown",
   "id": "b6c73f12",
   "metadata": {},
   "source": [
    "# Introduction to SQLAlchemy"
   ]
  },
  {
   "cell_type": "markdown",
   "id": "8b7bc934",
   "metadata": {},
   "source": [
    "- __0.__ Introduction\n",
    "- __1.__ Importing necessary libraries\n",
    "- __2.__ Creating engine\n",
    "- __3.__ Creating the connection\n",
    "- __4.__ Inspecting the database\n",
    "- __5.__ Querying the database\n",
    "- __6.__ Read a View to DataFrame\n",
    "- __7.__ Example of Using a CTE\n",
    "- __8.__ Create a New Table from DataFrame\n",
    "- __9.__ Delete a table\n",
    "- __10.__ Workflow example"
   ]
  },
  {
   "cell_type": "markdown",
   "id": "3801ae19",
   "metadata": {},
   "source": [
    "## 0. Introduction\n",
    "SQLAlchemy is a library that facilitates communication between Python programs and databases. \n",
    "\n",
    "There are two ways of working with SQLAlchemy:\n",
    "- SQLAlchemy Core: the foundational architecture for SQLAlchemy as a “database toolkit”. It provides tools for managing connectivity to a database, interacting with database queries and results, and construction of SQL statements\n",
    "- SQLAlchemy ORM:  builds upon the Core to provide optional object-relational mapping capabilities as it represents database relations as Python objects.\n",
    "\n",
    "In this course, we will focus on the SQLAlchemy Core architecture, which gives us the following advantages:\n",
    "- Learning the basic concepts in SQLAlchemy\n",
    "- practicing the use of the Pandas library\n",
    "- practicing the use of SQL statements"
   ]
  },
  {
   "cell_type": "code",
   "execution_count": null,
   "id": "f18af50d",
   "metadata": {
    "scrolled": true
   },
   "outputs": [],
   "source": [
    "!pip install sqlalchemy\n",
    "!pip install pyodbc"
   ]
  },
  {
   "cell_type": "markdown",
   "id": "88cd8ac1",
   "metadata": {},
   "source": [
    "## 1. Importing necessary libraries"
   ]
  },
  {
   "cell_type": "code",
   "execution_count": null,
   "id": "bc434439",
   "metadata": {},
   "outputs": [],
   "source": [
    "from sqlalchemy import create_engine, Table, inspect\n",
    "import pandas as pd"
   ]
  },
  {
   "cell_type": "markdown",
   "id": "d8f5bd8e",
   "metadata": {},
   "source": [
    "## 2. Creating engine\n",
    "\n",
    "In order to connect to a database, first we need to create an engine. The engine references are:\n",
    "- a __Dialect__: There are several types of RDBMS, which we call dialects in SQLAlchemy. They all use SQL as a base, but they have slight differences. \\\n",
    "The most common RDBMS are: MSSQL, MySQL, PostgreSQL, Oracle, SQLite. \\\n",
    "Each dialect in SQLAlchemy has a standard DBAPI, which serves as a bridge between Python programs and the relational databases, and they standardize the way to perform database operations.\n",
    "- a __Pool__: a pool will establish a connection at the specified server location\n",
    "- a __Database__: the database name we want to connect to\n",
    "- __username__ and __password__: when using SQL Server identication, we need to provide the username and password to be able to connect to the database. When using the Microsoft Authentication method, the username and password is not required, as the user is automatically identified by the Microsoft signin credentials. \n",
    "\n",
    "__NOTE__: by creating an engine, we did not yet connect to the database, we simply gave the instructions of how and where to connect."
   ]
  },
  {
   "cell_type": "code",
   "execution_count": null,
   "id": "649ac9ee",
   "metadata": {},
   "outputs": [],
   "source": [
    "def new_engine(dialect, server, database, user=None, password=None, integrated_security=True):\n",
    "    if integrated_security:\n",
    "        # For Windows authentication\n",
    "        eng = f\"{dialect}://{server}/{database}?trusted_connection=yes&driver=ODBC+Driver+17+for+SQL+Server\"\n",
    "    else:\n",
    "        assert user, 'You must define a username'\n",
    "        assert password, 'You must define a password'\n",
    "        # For SQL Server authentication\n",
    "        eng = f\"{dialect}://{user}:{password}@{server}/{database}?driver=ODBC+Driver+17+for+SQL+Server\"\n",
    "    print(eng)\n",
    "    return create_engine(eng)"
   ]
  },
  {
   "cell_type": "code",
   "execution_count": null,
   "id": "fd99d55c",
   "metadata": {},
   "outputs": [],
   "source": [
    "# For Windows authentication\n",
    "# Replace the server argument with the Server Name found when logging into SQL Server Management Studio \n",
    "# OR\n",
    "# For SQL Server authentication\n",
    "# Replace the server, user and password argument with the Server Name, username and password\n",
    "engine = new_engine('mssql', 'DESKTOP-CIKOHBH', 'AdventureWorks2022')"
   ]
  },
  {
   "cell_type": "code",
   "execution_count": null,
   "id": "572a57d6",
   "metadata": {},
   "outputs": [],
   "source": [
    "# alternative instead of the long code:\n",
    "engine = create_engine(\"mssql://DESKTOP-CIKOHBH/AdventureWorks2022?trusted_connection=yes&driver=ODBC+Driver+17+for+SQL+Server\")"
   ]
  },
  {
   "cell_type": "code",
   "execution_count": null,
   "id": "a6c3021d",
   "metadata": {},
   "outputs": [],
   "source": [
    "print(type(engine))"
   ]
  },
  {
   "cell_type": "markdown",
   "id": "d226f767",
   "metadata": {},
   "source": [
    "## 3. Creating the connection\n",
    "\n",
    "The engine class instance we created has the .connect() method, which returns a Connection object and technically creates the connection between the database and our Python application."
   ]
  },
  {
   "cell_type": "code",
   "execution_count": null,
   "id": "228edc31",
   "metadata": {},
   "outputs": [],
   "source": [
    "connection = engine.connect()"
   ]
  },
  {
   "cell_type": "code",
   "execution_count": null,
   "id": "07dd3f61",
   "metadata": {},
   "outputs": [],
   "source": [
    "print(type(connection))"
   ]
  },
  {
   "cell_type": "markdown",
   "id": "18d93d82",
   "metadata": {},
   "source": [
    "## 4. Inspecting the database\n",
    "\n",
    "Now that we have a connection to the database, we can inspect its contents. \\\n",
    "The AdventureWorks database has multiple schemas which we can list with the following command."
   ]
  },
  {
   "cell_type": "code",
   "execution_count": null,
   "id": "e2c170e1",
   "metadata": {},
   "outputs": [],
   "source": [
    "inspector = inspect(engine)\n",
    "schemas = inspector.get_schema_names()\n",
    "print(schemas)"
   ]
  },
  {
   "cell_type": "code",
   "execution_count": null,
   "id": "099ed1fd",
   "metadata": {},
   "outputs": [],
   "source": [
    "for schema in schemas:\n",
    "    print(schema)"
   ]
  },
  {
   "cell_type": "markdown",
   "id": "742c296b",
   "metadata": {},
   "source": [
    "Each schema in the database logically groups together tables, views, indexes and procedures. Schemas also help with security, as we can grant permission for users into specific schemas. \\\n",
    "In this example we list all the available tables in the Sales schema. All these tables are related to sales or the sales department."
   ]
  },
  {
   "cell_type": "code",
   "execution_count": null,
   "id": "1b0e5f67",
   "metadata": {},
   "outputs": [],
   "source": [
    "print(inspector.get_table_names(schema='Sales'))"
   ]
  },
  {
   "cell_type": "code",
   "execution_count": null,
   "id": "ea9b9df5",
   "metadata": {},
   "outputs": [],
   "source": [
    "for col in inspector.get_columns(table_name='Customer', schema='Sales'):\n",
    "#     print(col)\n",
    "    print(col['name'])"
   ]
  },
  {
   "cell_type": "markdown",
   "id": "5d0ee925",
   "metadata": {},
   "source": [
    "## 5. Querying the database\n",
    "\n",
    "The Pandas library can directly connect to and query a database with the .read_sql() method. The two most important arguments of the method are:\n",
    "- sql: this is the SQL command that the query will execute  \n",
    "- con: the connection we defined to the database\n",
    "\n",
    "The result is a Pandas DataFrame."
   ]
  },
  {
   "cell_type": "code",
   "execution_count": null,
   "id": "6e4a20e2",
   "metadata": {},
   "outputs": [],
   "source": [
    "df = pd.read_sql(sql=\"SELECT * from Sales.Customer\", con=connection)"
   ]
  },
  {
   "cell_type": "code",
   "execution_count": null,
   "id": "d584e6a5",
   "metadata": {},
   "outputs": [],
   "source": [
    "df.head(12)"
   ]
  },
  {
   "cell_type": "markdown",
   "id": "c5c811f9",
   "metadata": {},
   "source": [
    "The SQL query can get as complex as the user wants.\\\n",
    "Here is an example of multiple JOIN statements"
   ]
  },
  {
   "cell_type": "code",
   "execution_count": null,
   "id": "082d0091",
   "metadata": {},
   "outputs": [],
   "source": [
    "multijoin_sql =\"\"\"\n",
    "SELECT\n",
    "  c.CustomerID, \n",
    "  c.StoreID, \n",
    "  c.AccountNumber, \n",
    "  soh.SalesOrderID, \n",
    "  sod.ProductID\n",
    "FROM Sales.Customer AS c \n",
    "INNER JOIN Sales.SalesOrderHeader AS soh \n",
    "    ON c.CustomerID = soh.CustomerID\n",
    "INNER JOIN Sales.SalesOrderDetail AS sod \n",
    "    ON soh.SalesOrderID = sod.SalesOrderID\n",
    "\"\"\"\n",
    "join_df = pd.read_sql(sql=multijoin_sql, con=connection)"
   ]
  },
  {
   "cell_type": "code",
   "execution_count": null,
   "id": "edc9471e",
   "metadata": {},
   "outputs": [],
   "source": [
    "join_df.head()"
   ]
  },
  {
   "cell_type": "markdown",
   "id": "482b8533",
   "metadata": {},
   "source": [
    "## 6. Read a View to DataFrame\n",
    "Reading in Views into a DataFrame is the exact same process as reading the tables, we just need to specify which view to read"
   ]
  },
  {
   "cell_type": "code",
   "execution_count": null,
   "id": "7f3e6597",
   "metadata": {},
   "outputs": [],
   "source": [
    "view_sql = \"\"\"\n",
    "SELECT * \n",
    "FROM HumanResources.vEmployee\n",
    "\"\"\"\n",
    "\n",
    "view = pd.read_sql(sql=view_sql, con=connection)"
   ]
  },
  {
   "cell_type": "code",
   "execution_count": null,
   "id": "4208f94b",
   "metadata": {},
   "outputs": [],
   "source": [
    "view.head()"
   ]
  },
  {
   "cell_type": "markdown",
   "id": "16fd9e1e",
   "metadata": {},
   "source": [
    "## 7. Example of Using a CTE (Common Table Expression)\n",
    "Common Table Expressions are a great tool for managing more complex queries.\\\n",
    "Basically we create intermediate temporary tables, which we use later in further queries."
   ]
  },
  {
   "cell_type": "code",
   "execution_count": null,
   "id": "bf0b8bac",
   "metadata": {},
   "outputs": [],
   "source": [
    "cte_sql = \"\"\"\n",
    "WITH CTE_Employee AS (\n",
    "  SELECT \n",
    "    P.BusinessEntityID, \n",
    "    P.FirstName, \n",
    "    P.LastName, \n",
    "    HR.JobTitle \n",
    "  FROM HumanResources.Employee AS HR \n",
    "  INNER JOIN Person.Person AS P \n",
    "      ON HR.BusinessEntityID = P.BusinessEntityID \n",
    "  WHERE \n",
    "    Gender = 'M'\n",
    ") \n",
    "SELECT \n",
    "  CTE_Employee.BusinessEntityID, \n",
    "  CTE_Employee.FirstName, \n",
    "  CTE_Employee.LastName, \n",
    "  CTE_Employee.JobTitle, \n",
    "  SUM(Sales.SubTotal) TotalSum \n",
    "FROM CTE_Employee \n",
    "INNER JOIN Sales.SalesOrderHeader AS Sales \n",
    "    ON CTE_Employee.BusinessEntityID = Sales.SalesPersonID \n",
    "GROUP BY \n",
    "  CTE_Employee.BusinessEntityID, \n",
    "  CTE_Employee.FirstName, \n",
    "  CTE_Employee.LastName, \n",
    "  CTE_Employee.JobTitle \n",
    "ORDER BY\n",
    "  CTE_Employee.BusinessEntityID;\n",
    "\n",
    "\"\"\"\n",
    "\n",
    "result = pd.read_sql(cte_sql, engine)\n",
    "result"
   ]
  },
  {
   "cell_type": "markdown",
   "id": "db0c2b46",
   "metadata": {},
   "source": [
    "## 8. Create a New Table from DataFrame\n",
    "Creating new tables and adding them to our database is straightforward. \\\n",
    "We create/define our DataFrame and then we use the pandas.to_sql() method. \\\n",
    "We must define:\n",
    "- the __name__ of the table\n",
    "- the connection we are using (__con__)\n",
    "- the __schema__ we want to create the table in (if not provided the table will be added the the default dbo schema) \n",
    "- if we want to have a separate index column or keep the columns as is (__index__)\n",
    "- what SQLAlchemy should do if the table already exists (__if_exists__)"
   ]
  },
  {
   "cell_type": "code",
   "execution_count": null,
   "id": "30dc24e5",
   "metadata": {},
   "outputs": [],
   "source": [
    "table_data = {'Sketch':['Cheese shop sketch', 'Silly walks', 'Spanish inquisition', 'Lumberjack song', 'Argument clinic'],\n",
    "        'Length':['5:29', '4:05', '8:17', '2:41', '6:22']\n",
    "       }\n",
    "\n",
    "df2 = pd.DataFrame(data=table_data)\n",
    "df2"
   ]
  },
  {
   "cell_type": "code",
   "execution_count": null,
   "id": "652a8682",
   "metadata": {},
   "outputs": [],
   "source": [
    "df2.to_sql(name='MontyPython', con=engine, schema='Sales', index=False, if_exists='replace')"
   ]
  },
  {
   "cell_type": "code",
   "execution_count": null,
   "id": "078a93f7",
   "metadata": {},
   "outputs": [],
   "source": [
    "# Save the table into the default dbo schema. dbo stands for DataBase Owner\n",
    "df2.to_sql(name='MontyPython', con=engine, index=False, if_exists='replace')"
   ]
  },
  {
   "cell_type": "markdown",
   "id": "09f5f7f7",
   "metadata": {},
   "source": [
    "## 9. Delete a table"
   ]
  },
  {
   "cell_type": "code",
   "execution_count": null,
   "id": "8f0bd54e",
   "metadata": {
    "scrolled": true
   },
   "outputs": [],
   "source": [
    "# Reading the table / Check existence\n",
    "pd.read_sql(\"SELECT * FROM Sales.MontyPython\", engine)"
   ]
  },
  {
   "cell_type": "code",
   "execution_count": null,
   "id": "985c48f7",
   "metadata": {},
   "outputs": [],
   "source": [
    "# Executing the DROP TABLE command in Pandas\n",
    "from pandas.io import sql\n",
    "sql.execute('DROP TABLE IF EXISTS Sales.MontyPython', connection)"
   ]
  },
  {
   "cell_type": "code",
   "execution_count": null,
   "id": "0233ff39",
   "metadata": {},
   "outputs": [],
   "source": [
    "# Reading the table / Check existence\n",
    "pd.read_sql(\"SELECT * FROM Sales.MontyPython\", engine)"
   ]
  },
  {
   "cell_type": "markdown",
   "id": "d38ad78d",
   "metadata": {},
   "source": [
    "## 10. Workflow example\n",
    "In this part, we will go through an example of a workflow:\n",
    "- Read: reading in data from the database into a Pandas DataFrame\n",
    "- Update: modifying the data in the DataFrame\n",
    "- Save: saving the modified DataFrame into a new database table"
   ]
  },
  {
   "cell_type": "markdown",
   "id": "2fd7f1c1",
   "metadata": {},
   "source": [
    "#### Reading in data"
   ]
  },
  {
   "cell_type": "code",
   "execution_count": null,
   "id": "6fc8c2ad",
   "metadata": {
    "scrolled": false
   },
   "outputs": [],
   "source": [
    "# Read: reading in data from the database into a Pandas DataFrame\n",
    "# Products ranked based on sold amount between 2011-07-01 and 2011-08-01\n",
    "example_sql =\"\"\"\n",
    "SELECT \n",
    "  DENSE_RANK() OVER (ORDER BY SUM(SOD.OrderQty) DESC) AS SalesRank,\n",
    "  P.ProductID,\n",
    "  P.Name,\n",
    "  SUM(SOD.OrderQty) AS TotalSold\n",
    "FROM \n",
    "  Production.Product AS P \n",
    "  JOIN Sales.SalesOrderDetail AS SOD ON P.ProductID = SOD.ProductID \n",
    "  JOIN Sales.SalesOrderHeader AS SOH ON SOD.SalesOrderID = SOH.SalesOrderID\n",
    "WHERE \n",
    "  SOH.OrderDate BETWEEN '2011-07-01' AND '2011-07-31'\n",
    "GROUP BY\n",
    "  P.ProductID, P.Name\n",
    "ORDER BY\n",
    "  SUM(SOD.OrderQty) DESC\n",
    "\"\"\"\n",
    "\n",
    "example_df = pd.read_sql(example_sql, engine, index_col='SalesRank')\n",
    "example_df"
   ]
  },
  {
   "cell_type": "markdown",
   "id": "c84b1879",
   "metadata": {},
   "source": [
    "#### Modifying the DataFrame"
   ]
  },
  {
   "cell_type": "code",
   "execution_count": null,
   "id": "cfb41ff8",
   "metadata": {
    "scrolled": true
   },
   "outputs": [],
   "source": [
    "# Update: modifying the data in the DataFrame\n",
    "# Adding a Goal column to th DataFrame, with the next month (August) sales goal of +10% TotalSold\n",
    "example_df['August_Goal'] = round(example_df['TotalSold'] * 1.1, 0).astype(int)\n",
    "example_df"
   ]
  },
  {
   "cell_type": "markdown",
   "id": "bb970496",
   "metadata": {},
   "source": [
    "#### Saving the modified DataFrame"
   ]
  },
  {
   "cell_type": "code",
   "execution_count": null,
   "id": "93e39757",
   "metadata": {},
   "outputs": [],
   "source": [
    "# Save: saving the modified DataFrame into a new database table\n",
    "example_df.to_sql(name='August_Goal_Table', con=engine, schema='Sales', index=False, if_exists='replace')"
   ]
  },
  {
   "cell_type": "markdown",
   "id": "767e96ee",
   "metadata": {},
   "source": [
    "#### Controlling the result"
   ]
  },
  {
   "cell_type": "code",
   "execution_count": null,
   "id": "9764f33f",
   "metadata": {
    "scrolled": true
   },
   "outputs": [],
   "source": [
    "# Double checking if the new table was created\n",
    "check = pd.read_sql('SELECT * FROM Sales.August_Goal_Table', engine)\n",
    "check"
   ]
  },
  {
   "cell_type": "code",
   "execution_count": null,
   "id": "b4f55fab",
   "metadata": {},
   "outputs": [],
   "source": []
  }
 ],
 "metadata": {
  "kernelspec": {
   "display_name": "sql",
   "language": "python",
   "name": "python3"
  },
  "language_info": {
   "codemirror_mode": {
    "name": "ipython",
    "version": 3
   },
   "file_extension": ".py",
   "mimetype": "text/x-python",
   "name": "python",
   "nbconvert_exporter": "python",
   "pygments_lexer": "ipython3",
   "version": "3.11.4"
  }
 },
 "nbformat": 4,
 "nbformat_minor": 5
}
